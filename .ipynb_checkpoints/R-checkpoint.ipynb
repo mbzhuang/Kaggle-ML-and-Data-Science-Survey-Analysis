{
 "cells": [
  {
   "cell_type": "markdown",
   "metadata": {},
   "source": [
    "# A Deep Dive into the 2017 Kaggle ML and Data Science Survey Results\n",
    "\n",
    "\n",
    "DATA 512 - UW Interdisciplinary Data Science Masters Program\n",
    "\n",
    "Course Project Plan\n",
    "\n",
    "Mobing Zhuang\n",
    "\n",
    "\n",
    "## 1. Project Introduction\n",
    "\n",
    "### 1.1 About the survey\n",
    "\n",
    "In 2017, Kaggle conducted a [survey](https://www.kaggle.com/kaggle/kaggle-survey-2017) through Kaggle channels with the intention to establish a comprehensive view of the current state of data science and machine learning field.\n",
    "\n",
    "16,716 usable survey responses were received from 171 countries and territories. The respondents were found through kaggle email list, discussion forums and social media channels. Questions in the survey consists of required and non-required ones. Survey responses were flagged as \"spam\" if their employment status, which is the first required question, was not answered. The survey is designed to only asking relevant questions to each respondent. In summary, this was a very well designed survey.\n",
    "\n",
    "### 1.2 About the data\n",
    "\n",
    "The data sets includes 5 files:\n",
    "\n",
    "- schema.csv: This CSV file includes the survey questions that correspond to each column name in both the multipleChoiceResponses.csv and freeformResponses.csv.\n",
    "- multipleChoiceResponses.csv: Respondents' answers to multiple choice and ranking questions. A single row is the answer from the same respondent.\n",
    "- freeformResponses.csv: Respondents' freeform answers to Kaggle's survey questions. A single row is not the answer from the same respondent.\n",
    "- conversionRates.csv: Currency conversion rates to USD 7.\n",
    "- RespondentTypeREADME.txt: This describes respondent type in the \"Asked\" column of the schema.csv file.\n",
    "\n",
    "License: \n",
    "\n",
    "According to Kaggle, the data is released under Open Database license, specifically, [ODC Open Database License (ODbL)](https://opendatacommons.org/licenses/odbl/1.0/). Users are free to share, to produce works, to modify, transform and build upon the data, as long as they attribute, share-alike, and keep open. [Click to read detailed explanations of how the data can be used.](https://opendatacommons.org/licenses/odbl/summary/) \n"
   ]
  },
  {
   "cell_type": "markdown",
   "metadata": {},
   "source": [
    "---"
   ]
  },
  {
   "cell_type": "markdown",
   "metadata": {},
   "source": [
    "## 2. Project Background "
   ]
  },
  {
   "cell_type": "markdown",
   "metadata": {},
   "source": [
    "---"
   ]
  },
  {
   "cell_type": "markdown",
   "metadata": {},
   "source": [
    "## 3. Research Questions and Methods"
   ]
  },
  {
   "cell_type": "markdown",
   "metadata": {},
   "source": [
    "---"
   ]
  },
  {
   "cell_type": "markdown",
   "metadata": {},
   "source": [
    "## 4. Findings and Discussion"
   ]
  },
  {
   "cell_type": "markdown",
   "metadata": {},
   "source": [
    "---"
   ]
  },
  {
   "cell_type": "markdown",
   "metadata": {},
   "source": [
    "## 5. Conclusion"
   ]
  },
  {
   "cell_type": "markdown",
   "metadata": {},
   "source": [
    "---"
   ]
  },
  {
   "cell_type": "markdown",
   "metadata": {},
   "source": [
    "## 6. References"
   ]
  },
  {
   "cell_type": "code",
   "execution_count": null,
   "metadata": {
    "collapsed": true
   },
   "outputs": [],
   "source": []
  }
 ],
 "metadata": {
  "kernelspec": {
   "display_name": "R",
   "language": "R",
   "name": "ir"
  },
  "language_info": {
   "codemirror_mode": "r",
   "file_extension": ".r",
   "mimetype": "text/x-r-source",
   "name": "R",
   "pygments_lexer": "r",
   "version": "3.3.2"
  }
 },
 "nbformat": 4,
 "nbformat_minor": 2
}
